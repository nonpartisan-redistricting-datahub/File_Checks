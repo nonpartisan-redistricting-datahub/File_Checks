{
 "cells": [
  {
   "cell_type": "code",
   "execution_count": null,
   "id": "bb3437aa",
   "metadata": {},
   "outputs": [],
   "source": [
    "import pandas as pd\n",
    "import geopandas as gp\n",
    "import os\n",
    "\n",
    "pd.options.display.max_rows = 999\n",
    "pd.options.display.max_columns = 999"
   ]
  },
  {
   "cell_type": "markdown",
   "id": "d62ed9e0",
   "metadata": {},
   "source": [
    "# File Checker\n",
    "\n",
    "Code to run standardized checks on all RDH files and export a .txt file with the results"
   ]
  },
  {
   "cell_type": "code",
   "execution_count": null,
   "id": "16538ada",
   "metadata": {},
   "outputs": [],
   "source": [
    "def check_file(path):\n",
    "    if \".csv\" in path:\n",
    "        file_type = \".csv\"\n",
    "        load = pd.read_csv(path)\n",
    "    elif \".shp\" in path:\n",
    "        file_type = \".shp\"\n",
    "        load = gp.read_file(path)\n",
    "        assert(os.path.exists(path[0:-4] + \".cpg\"))\n",
    "        assert(os.path.exists(path[0:-4] + \".dbf\"))\n",
    "        assert(os.path.exists(path[0:-4] + \".prj\"))\n",
    "        assert(os.path.exists(path[0:-4] + \".shx\"))\n",
    "    else:\n",
    "        raise ValueError (\"Other function needed to load non .csv or .shp\")\n",
    "    run_checks(load, path, file_type)\n",
    "    \n",
    "def run_checks(file, path, file_type):\n",
    "    with open(\"./RDH_file_checker.txt\",\"w\") as t:\n",
    "        t.write(\"***RDH FILE CHECKER***\\n\")\n",
    "        t.write(\"Checking file located at \" + path+\"\\n\")\n",
    "        t.write(\"\\n\")\n",
    "        t.write(\"\\n\")        \n",
    "        \n",
    "        t.write(\"***N/A VALUES***\\n\")\n",
    "        if(file.isna().any().sum() != 0):\n",
    "            t.write(\"N/A values in the following columns\\n\")\n",
    "            for col in file.columns:\n",
    "                if file[col].isna().any().sum():\n",
    "                    t.write(\"\\t\"+col+\"\\n\")\n",
    "        else:\n",
    "            t.write(\"Do not appear to be N/A values\")\n",
    "        t.write(\"\\n\")\n",
    "        t.write(\"\\n\")\n",
    "        \n",
    "        t.write(\"***File Size***\\n\")\n",
    "        t.write(\"File contains \" + str(file.shape[0]) + \" row(s)\\n\")\n",
    "        t.write(\"File contains \" + str(file.shape[1]) + \" column(s)\\n\")\n",
    "        t.write(\"\\n\")\n",
    "        t.write(\"\\n\")\n",
    "        \n",
    "        if file_type == \".shp\":\n",
    "            t.write(\"***Invalid Geometries***\\n\")\n",
    "            t.write(\"File contains \" + str(file[~file[\"geometry\"].is_valid].shape[0]) + \" invalid GEOM row(s)\\n\")\n",
    "            t.write(\"File contains \" + str(file[file[\"geometry\"].is_valid].shape[0]) + \" valid GEOM row(s)\\n\")\n",
    "            t.write(\"\\n\")\n",
    "            t.write(\"\\n\")\n",
    "\n",
    "        t.write(\"***COLUMN NAMES***\\n\")\n",
    "        t.write(str(list(file.columns)))\n",
    "        t.write(\"\\n\")\n",
    "        t.write(\"\\n\")\n",
    "        \n",
    "        t.write(\"***COLUMN NAME LENGTHS***\\n\")\n",
    "        long_col_name_list = [i for i in file.columns if len(i) > 10]\n",
    "        if len(long_col_name_list) > 0:\n",
    "            t.write(\"The following columns are longer than 10 characters:\" + str(long_col_name_list)+\"\\n\")\n",
    "        else:\n",
    "            t.write(\"No column names are longer than 10 characters\\n\")\n",
    "        t.write(\"\\n\")\n",
    "        t.write(\"\\n\")\n",
    "\n",
    "        t.write(\"***FULL FILE SUMMARY***\\n\")\n",
    "        t.write(str(file.describe())+\"\\n\")\n",
    "        t.write(\"\\n\")\n",
    "        t.write(\"\\n\")\n",
    "\n",
    "        t.write(\"***MAX VALUE FOR EVERY DATA COLUMN***\\n\")\n",
    "        t.write(str(file.describe().loc[\"max\",:])+\"\\n\")\n",
    "        t.write(\"\\n\")\n",
    "        t.write(\"\\n\")\n",
    "\n",
    "        t.write(\"***MIN VALUE FOR EVERY DATA COLUMN***\\n\")\n",
    "        t.write(str(file.describe().loc[\"min\",:])+\"\\n\")\n",
    "        t.write(\"\\n\")\n",
    "        t.write(\"\\n\")\n",
    "        \n",
    "        t.write(\"***NUMERIC COLUMN SUMS***\\n\")\n",
    "        t.write(str(file.sum(numeric_only=True))+\"\\n\")\n",
    "        t.write(\"\\n\")\n",
    "        t.write(\"\\n\")\n",
    "\n",
    "        t.write(\"***COLUMNS AND DUPLICATE VALUES***\\n\")\n",
    "        for col in list(file.columns):\n",
    "            if col != \"geometry\":\n",
    "                if max(file[col].value_counts(dropna = False))==1:\n",
    "                    t.write(\"NO: Column \" + col + \" DOES NOT HAVE duplicate values\\n\")\n",
    "                elif max(file[col].value_counts(dropna = False))>1:\n",
    "                    t.write(\"YES: Column \" + col+ \" HAS duplicate values\\n\")\n",
    "        t.write(\"\\n\")\n"
   ]
  },
  {
   "cell_type": "markdown",
   "id": "263947be",
   "metadata": {},
   "source": [
    "## Calling the Checker"
   ]
  },
  {
   "cell_type": "code",
   "execution_count": null,
   "id": "a12a25dd",
   "metadata": {},
   "outputs": [],
   "source": [
    "# Example call\n",
    "#check_file(\"/Users/peterhorton/Downloads/TxDOT_City_Boundaries/Cities.shp\")"
   ]
  },
  {
   "cell_type": "code",
   "execution_count": null,
   "id": "22f591ed",
   "metadata": {},
   "outputs": [],
   "source": [
    "# Call to use\n",
    "path_to_file = \"\"\n",
    "check_file(path_to_file)"
   ]
  }
 ],
 "metadata": {
  "kernelspec": {
   "display_name": "Python 3 (ipykernel)",
   "language": "python",
   "name": "python3"
  },
  "language_info": {
   "codemirror_mode": {
    "name": "ipython",
    "version": 3
   },
   "file_extension": ".py",
   "mimetype": "text/x-python",
   "name": "python",
   "nbconvert_exporter": "python",
   "pygments_lexer": "ipython3",
   "version": "3.8.13"
  }
 },
 "nbformat": 4,
 "nbformat_minor": 5
}
