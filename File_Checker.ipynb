{
 "cells": [
  {
   "cell_type": "code",
   "execution_count": null,
   "id": "bb3437aa",
   "metadata": {},
   "outputs": [],
   "source": [
    "import pandas as pd\n",
    "import geopandas as gp\n",
    "import os\n",
    "\n",
    "pd.options.display.max_rows = 999\n",
    "pd.options.display.max_columns = 999"
   ]
  },
  {
   "cell_type": "markdown",
   "id": "d62ed9e0",
   "metadata": {},
   "source": [
    "# File Checker\n",
    "\n",
    "Code to run standardized checks on all RDH files and export a .txt file with the results"
   ]
  },
  {
   "cell_type": "code",
   "execution_count": 191,
   "id": "16538ada",
   "metadata": {},
   "outputs": [],
   "source": [
    "def check_file(path):\n",
    "    if \".csv\" in path:\n",
    "        load = pd.read_csv(path)\n",
    "    elif \".shp\" in path:\n",
    "        load = gp.read_file(path)\n",
    "        assert(os.path.exists(path[0:-4] + \".cpg\"))\n",
    "        assert(os.path.exists(path[0:-4] + \".dbf\"))\n",
    "        assert(os.path.exists(path[0:-4] + \".prj\"))\n",
    "        assert(os.path.exists(path[0:-4] + \".shx\"))\n",
    "        print(\"Shapefile has 5 needed files\")\n",
    "    else:\n",
    "        raise ValueError (\"Other function needed to load non .csv or .shp\")\n",
    "    run_checks(load, path)\n",
    "    \n",
    "def run_checks(file, path):\n",
    "    with open(\"./RDH_file_checker.txt\",\"w\") as t:\n",
    "        t.write(\"***RDH FILE CHECKER***\\n\")\n",
    "        t.write(\"Checking file located at \" + path+\"\\n\")\n",
    "        t.write(\"\\n\")\n",
    "        t.write(\"\\n\")        \n",
    "        \n",
    "        t.write(\"***N/A VALUES***\\n\")\n",
    "        if(file.isna().any().sum() != 0):\n",
    "            t.write(\"N/A values in the following columns\\n\")\n",
    "            for col in file.columns:\n",
    "                if file[col].isna().any().sum():\n",
    "                    t.write(\"\\t\"+col+\"\\n\")\n",
    "        else:\n",
    "            t.write(\"Do not appear to be N/A values\")\n",
    "        t.write(\"\\n\")\n",
    "        t.write(\"\\n\")\n",
    "        \n",
    "        t.write(\"***File Size***\\n\")\n",
    "        t.write(\"File contains \" + str(file.shape[0]) + \" row(s)\\n\")\n",
    "        t.write(\"File contains \" + str(file.shape[1]) + \" column(s)\\n\")\n",
    "        t.write(\"\\n\")\n",
    "        t.write(\"\\n\")\n",
    "\n",
    "        t.write(\"***COLUMN NAMES***\\n\")\n",
    "        t.write(str(list(file.columns)))\n",
    "        t.write(\"\\n\")\n",
    "        t.write(\"\\n\")\n",
    "\n",
    "        t.write(\"***COLUMN NAME LENGTHS***\\n\")\n",
    "        long_col_name_list = [i for i in file.columns if len(i) > 10]\n",
    "        if len(long_col_name_list) > 0:\n",
    "            t.write(\"The following columns are longer than 10 characters:\" + str(long_col_name_list)+\"\\n\")\n",
    "        else:\n",
    "            t.write(\"No column names are longer than 10 characters\\n\")\n",
    "        t.write(\"\\n\")\n",
    "        t.write(\"\\n\")\n",
    "\n",
    "        t.write(\"***FULL FILE SUMMARY***\\n\")\n",
    "        t.write(str(file.describe())+\"\\n\")\n",
    "        t.write(\"\\n\")\n",
    "        t.write(\"\\n\")\n",
    "\n",
    "        t.write(\"***MAX VALUE FOR EVERY DATA COLUMN***\\n\")\n",
    "        t.write(str(test.describe().loc[\"max\",:])+\"\\n\")\n",
    "        t.write(\"\\n\")\n",
    "        t.write(\"\\n\")\n",
    "\n",
    "        t.write(\"***MIN VALUE FOR EVERY DATA COLUMN***\\n\")\n",
    "        t.write(str(test.describe().loc[\"min\",:])+\"\\n\")\n",
    "        t.write(\"\\n\")\n",
    "        t.write(\"\\n\")\n",
    "\n",
    "        t.write(\"***COLUMNS AND DUPLICATE VALUES***\\n\")\n",
    "        for col in list(file.columns):\n",
    "            if col != \"geometry\":\n",
    "                if max(file[col].value_counts(dropna = False))==1:\n",
    "                    t.write(\"NO: Column \" + col + \" DOES NOT HAVE duplicate values\\n\")\n",
    "                elif max(file[col].value_counts(dropna = False))>1:\n",
    "                    t.write(\"YES: Column \" + col+ \" HAS duplicate values\\n\")\n",
    "        t.write(\"\\n\")\n"
   ]
  },
  {
   "cell_type": "markdown",
   "id": "263947be",
   "metadata": {},
   "source": [
    "## Calling the Checker"
   ]
  },
  {
   "cell_type": "code",
   "execution_count": 192,
   "id": "a12a25dd",
   "metadata": {},
   "outputs": [],
   "source": [
    "# Example call\n",
    "check_file(\"/Users/peterhorton/Downloads/AZ_l2_turnout_2020blockAgg/AZ_l2_turnout_stats_block20.csv\")"
   ]
  },
  {
   "cell_type": "code",
   "execution_count": 190,
   "id": "22f591ed",
   "metadata": {},
   "outputs": [
    {
     "ename": "ValueError",
     "evalue": "Other function needed to load non .csv or .shp",
     "output_type": "error",
     "traceback": [
      "\u001b[0;31m---------------------------------------------------------------------------\u001b[0m",
      "\u001b[0;31mValueError\u001b[0m                                Traceback (most recent call last)",
      "Cell \u001b[0;32mIn [190], line 6\u001b[0m\n\u001b[1;32m      1\u001b[0m \u001b[38;5;66;03m# Example call\u001b[39;00m\n\u001b[1;32m      2\u001b[0m \u001b[38;5;66;03m#check_file(\"/Users/peterhorton/Downloads/AZ_l2_turnout_2020blockAgg/AZ_l2_turnout_stats_block20.csv\")\u001b[39;00m\n\u001b[1;32m      3\u001b[0m \n\u001b[1;32m      4\u001b[0m \u001b[38;5;66;03m# Call to use\u001b[39;00m\n\u001b[1;32m      5\u001b[0m path_to_file \u001b[38;5;241m=\u001b[39m \u001b[38;5;124m\"\u001b[39m\u001b[38;5;124m\"\u001b[39m\n\u001b[0;32m----> 6\u001b[0m check_file(path_to_file)\n",
      "Cell \u001b[0;32mIn [189], line 19\u001b[0m, in \u001b[0;36mcheck_file\u001b[0;34m(path)\u001b[0m\n\u001b[1;32m     17\u001b[0m     \u001b[38;5;28mprint\u001b[39m(\u001b[38;5;124m\"\u001b[39m\u001b[38;5;124mShapefile has 5 needed files\u001b[39m\u001b[38;5;124m\"\u001b[39m)\n\u001b[1;32m     18\u001b[0m \u001b[38;5;28;01melse\u001b[39;00m:\n\u001b[0;32m---> 19\u001b[0m     \u001b[38;5;28;01mraise\u001b[39;00m \u001b[38;5;167;01mValueError\u001b[39;00m (\u001b[38;5;124m\"\u001b[39m\u001b[38;5;124mOther function needed to load non .csv or .shp\u001b[39m\u001b[38;5;124m\"\u001b[39m)\n\u001b[1;32m     20\u001b[0m run_checks(load, path)\n",
      "\u001b[0;31mValueError\u001b[0m: Other function needed to load non .csv or .shp"
     ]
    }
   ],
   "source": [
    "# Call to use\n",
    "path_to_file = \"\"\n",
    "check_file(path_to_file)"
   ]
  }
 ],
 "metadata": {
  "kernelspec": {
   "display_name": "Python 3 (ipykernel)",
   "language": "python",
   "name": "python3"
  },
  "language_info": {
   "codemirror_mode": {
    "name": "ipython",
    "version": 3
   },
   "file_extension": ".py",
   "mimetype": "text/x-python",
   "name": "python",
   "nbconvert_exporter": "python",
   "pygments_lexer": "ipython3",
   "version": "3.8.13"
  }
 },
 "nbformat": 4,
 "nbformat_minor": 5
}
